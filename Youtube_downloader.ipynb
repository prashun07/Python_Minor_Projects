{
 "cells": [
  {
   "cell_type": "code",
   "execution_count": 13,
   "metadata": {},
   "outputs": [],
   "source": [
    "#importing Libraries\n",
    "from tkinter import *\n",
    "from pytube import YouTube\n",
    "#Creating window\n",
    "root=Tk()\n",
    "root.geometry(\"500x300\")\n",
    "root.resizable(0,0)#set to fix window size\n",
    "root.title(\"YouTube Video Downloader\")\n",
    "Label(root,text = 'Youtube Video Downloader', font ='arial 20 bold').pack()\n",
    "\n",
    "#Creating Field to enter link\n",
    "link=StringVar()\n",
    "Label(root,text=\"Enter Your Link\",font='arial 15 bold').place(x=160,y=60)\n",
    "link_enter=Entry(root,width=70,textvariable=link).place(x=32,y=90)\n",
    "\n",
    "#function to download video\n",
    "def Downloader():\n",
    "    try:\n",
    "        url=YouTube(str(link.get()))\n",
    "        video=url.streams.first()\n",
    "        video.download()\n",
    "        Label(root, text = 'DOWNLOADED', font = 'arial 15').place(x= 180 , y = 210)  \n",
    "    except:\n",
    "        Label(root,text='Invalid Link',font='arial 15').place(x=80,y=210)\n",
    "        \n",
    "\n",
    "Button(root,text = 'DOWNLOAD', font = 'arial 15 bold' ,bg = 'pale violet red', padx = 2, command = Downloader).place(x=180 ,y = 150)\n",
    "\n",
    "root.mainloop()"
   ]
  },
  {
   "cell_type": "code",
   "execution_count": null,
   "metadata": {},
   "outputs": [],
   "source": []
  }
 ],
 "metadata": {
  "kernelspec": {
   "display_name": "Python 3",
   "language": "python",
   "name": "python3"
  },
  "language_info": {
   "codemirror_mode": {
    "name": "ipython",
    "version": 3
   },
   "file_extension": ".py",
   "mimetype": "text/x-python",
   "name": "python",
   "nbconvert_exporter": "python",
   "pygments_lexer": "ipython3",
   "version": "3.7.6"
  }
 },
 "nbformat": 4,
 "nbformat_minor": 4
}
